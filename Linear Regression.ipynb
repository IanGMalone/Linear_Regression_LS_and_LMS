{
 "cells": [
  {
   "cell_type": "markdown",
   "id": "294bf7f9",
   "metadata": {},
   "source": [
    "# Linear Regression From Scratch\n",
    "*Least Squares and Least Mean Squares*\n",
    "***\n",
    "**Ian Malone**"
   ]
  },
  {
   "cell_type": "markdown",
   "id": "cbb09bab",
   "metadata": {},
   "source": [
    "The goal of this project is to design a linear regressor using a set of features from a house sales\n",
    "database to determine its market value. I will be using a well-known data set, the\n",
    "Boston Housing data set located at https://www.cs.toronto.edu/~delve/data/boston/bostonDetail.html\n",
    "\n",
    "This data set has 14 attributes (features), and I will regress to price (14th feature). Therefore, this target variable will not be used as an input. The data set is rather small, and it will be dived 2/3 for training and 1/3 for testing.\n",
    "\n",
    "The results will be summarized by presenting the training error and its variance across different initializations. The test set error and its variance across different runs will be reported in a table.\n",
    "\n",
    "The Least Squares (LS) solution, also called statistical regression, and the Least Mean Squares (LMS) algorithm will be used to train the regressor.\n",
    "\n",
    "When using LS, the effect of different levels of regularizations will be shown. When training with LMS, the learning rate must be properly selected. The effect of the stepsize (or learning rate) will be shown by plotting the learning curve. The weight tracks for the LMS will also be shown. The accuracy of the LMS with the best initialization will be compared to the accuracy of the analytic LS solution.\n",
    "\n",
    "Other that will be explored include: What happens when the target variable is used as an input? This will be explained by visualizing the learned parameters of the model. Does a bias term need to be included in the model for this problem?"
   ]
  },
  {
   "cell_type": "markdown",
   "id": "507d4652",
   "metadata": {},
   "source": [
    "### Import Libraries and Prepare Data"
   ]
  },
  {
   "cell_type": "markdown",
   "id": "137e1cb1",
   "metadata": {},
   "source": [
    "#### Import Libraries"
   ]
  },
  {
   "cell_type": "code",
   "execution_count": 301,
   "id": "8d75bc3b",
   "metadata": {},
   "outputs": [],
   "source": [
    "import numpy as np\n",
    "import pandas as pd\n",
    "import matplotlib.pyplot as plt\n",
    "import seaborn as sns"
   ]
  },
  {
   "cell_type": "markdown",
   "id": "b5d74b11",
   "metadata": {},
   "source": [
    "#### Load Data"
   ]
  },
  {
   "cell_type": "code",
   "execution_count": 9,
   "id": "415ae36d",
   "metadata": {},
   "outputs": [],
   "source": [
    "df = pd.read_csv(\"C:\\\\Users\\\\Ian\\\\Google Drive\\\\IanGMalone\\\\UF\\\\Classes\\\\Deep Learning\\\\HW\\\\HW1\\\\Boston_Housing.csv\")"
   ]
  },
  {
   "cell_type": "code",
   "execution_count": 11,
   "id": "3e6fb630",
   "metadata": {},
   "outputs": [
    {
     "data": {
      "text/html": [
       "<div>\n",
       "<style scoped>\n",
       "    .dataframe tbody tr th:only-of-type {\n",
       "        vertical-align: middle;\n",
       "    }\n",
       "\n",
       "    .dataframe tbody tr th {\n",
       "        vertical-align: top;\n",
       "    }\n",
       "\n",
       "    .dataframe thead th {\n",
       "        text-align: right;\n",
       "    }\n",
       "</style>\n",
       "<table border=\"1\" class=\"dataframe\">\n",
       "  <thead>\n",
       "    <tr style=\"text-align: right;\">\n",
       "      <th></th>\n",
       "      <th>CRIM</th>\n",
       "      <th>ZN</th>\n",
       "      <th>INDUS</th>\n",
       "      <th>CHAS</th>\n",
       "      <th>NOX</th>\n",
       "      <th>RM</th>\n",
       "      <th>AGE</th>\n",
       "      <th>DIS</th>\n",
       "      <th>RAD</th>\n",
       "      <th>TAX</th>\n",
       "      <th>PTRATIO</th>\n",
       "      <th>B</th>\n",
       "      <th>LSTAT</th>\n",
       "      <th>MEDV</th>\n",
       "    </tr>\n",
       "  </thead>\n",
       "  <tbody>\n",
       "    <tr>\n",
       "      <th>count</th>\n",
       "      <td>506.000000</td>\n",
       "      <td>506.000000</td>\n",
       "      <td>506.000000</td>\n",
       "      <td>506.000000</td>\n",
       "      <td>506.000000</td>\n",
       "      <td>506.000000</td>\n",
       "      <td>506.000000</td>\n",
       "      <td>506.000000</td>\n",
       "      <td>506.000000</td>\n",
       "      <td>506.000000</td>\n",
       "      <td>506.000000</td>\n",
       "      <td>506.000000</td>\n",
       "      <td>506.000000</td>\n",
       "      <td>506.000000</td>\n",
       "    </tr>\n",
       "    <tr>\n",
       "      <th>mean</th>\n",
       "      <td>3.613524</td>\n",
       "      <td>11.363636</td>\n",
       "      <td>11.136779</td>\n",
       "      <td>0.069170</td>\n",
       "      <td>0.554695</td>\n",
       "      <td>6.284634</td>\n",
       "      <td>68.574901</td>\n",
       "      <td>3.795043</td>\n",
       "      <td>9.549407</td>\n",
       "      <td>408.237154</td>\n",
       "      <td>18.455534</td>\n",
       "      <td>356.674032</td>\n",
       "      <td>12.653063</td>\n",
       "      <td>22.532806</td>\n",
       "    </tr>\n",
       "    <tr>\n",
       "      <th>std</th>\n",
       "      <td>8.601545</td>\n",
       "      <td>23.322453</td>\n",
       "      <td>6.860353</td>\n",
       "      <td>0.253994</td>\n",
       "      <td>0.115878</td>\n",
       "      <td>0.702617</td>\n",
       "      <td>28.148861</td>\n",
       "      <td>2.105710</td>\n",
       "      <td>8.707259</td>\n",
       "      <td>168.537116</td>\n",
       "      <td>2.164946</td>\n",
       "      <td>91.294864</td>\n",
       "      <td>7.141062</td>\n",
       "      <td>9.197104</td>\n",
       "    </tr>\n",
       "    <tr>\n",
       "      <th>min</th>\n",
       "      <td>0.006320</td>\n",
       "      <td>0.000000</td>\n",
       "      <td>0.460000</td>\n",
       "      <td>0.000000</td>\n",
       "      <td>0.385000</td>\n",
       "      <td>3.561000</td>\n",
       "      <td>2.900000</td>\n",
       "      <td>1.129600</td>\n",
       "      <td>1.000000</td>\n",
       "      <td>187.000000</td>\n",
       "      <td>12.600000</td>\n",
       "      <td>0.320000</td>\n",
       "      <td>1.730000</td>\n",
       "      <td>5.000000</td>\n",
       "    </tr>\n",
       "    <tr>\n",
       "      <th>25%</th>\n",
       "      <td>0.082045</td>\n",
       "      <td>0.000000</td>\n",
       "      <td>5.190000</td>\n",
       "      <td>0.000000</td>\n",
       "      <td>0.449000</td>\n",
       "      <td>5.885500</td>\n",
       "      <td>45.025000</td>\n",
       "      <td>2.100175</td>\n",
       "      <td>4.000000</td>\n",
       "      <td>279.000000</td>\n",
       "      <td>17.400000</td>\n",
       "      <td>375.377500</td>\n",
       "      <td>6.950000</td>\n",
       "      <td>17.025000</td>\n",
       "    </tr>\n",
       "    <tr>\n",
       "      <th>50%</th>\n",
       "      <td>0.256510</td>\n",
       "      <td>0.000000</td>\n",
       "      <td>9.690000</td>\n",
       "      <td>0.000000</td>\n",
       "      <td>0.538000</td>\n",
       "      <td>6.208500</td>\n",
       "      <td>77.500000</td>\n",
       "      <td>3.207450</td>\n",
       "      <td>5.000000</td>\n",
       "      <td>330.000000</td>\n",
       "      <td>19.050000</td>\n",
       "      <td>391.440000</td>\n",
       "      <td>11.360000</td>\n",
       "      <td>21.200000</td>\n",
       "    </tr>\n",
       "    <tr>\n",
       "      <th>75%</th>\n",
       "      <td>3.677083</td>\n",
       "      <td>12.500000</td>\n",
       "      <td>18.100000</td>\n",
       "      <td>0.000000</td>\n",
       "      <td>0.624000</td>\n",
       "      <td>6.623500</td>\n",
       "      <td>94.075000</td>\n",
       "      <td>5.188425</td>\n",
       "      <td>24.000000</td>\n",
       "      <td>666.000000</td>\n",
       "      <td>20.200000</td>\n",
       "      <td>396.225000</td>\n",
       "      <td>16.955000</td>\n",
       "      <td>25.000000</td>\n",
       "    </tr>\n",
       "    <tr>\n",
       "      <th>max</th>\n",
       "      <td>88.976200</td>\n",
       "      <td>100.000000</td>\n",
       "      <td>27.740000</td>\n",
       "      <td>1.000000</td>\n",
       "      <td>0.871000</td>\n",
       "      <td>8.780000</td>\n",
       "      <td>100.000000</td>\n",
       "      <td>12.126500</td>\n",
       "      <td>24.000000</td>\n",
       "      <td>711.000000</td>\n",
       "      <td>22.000000</td>\n",
       "      <td>396.900000</td>\n",
       "      <td>37.970000</td>\n",
       "      <td>50.000000</td>\n",
       "    </tr>\n",
       "  </tbody>\n",
       "</table>\n",
       "</div>"
      ],
      "text/plain": [
       "             CRIM          ZN       INDUS        CHAS         NOX          RM  \\\n",
       "count  506.000000  506.000000  506.000000  506.000000  506.000000  506.000000   \n",
       "mean     3.613524   11.363636   11.136779    0.069170    0.554695    6.284634   \n",
       "std      8.601545   23.322453    6.860353    0.253994    0.115878    0.702617   \n",
       "min      0.006320    0.000000    0.460000    0.000000    0.385000    3.561000   \n",
       "25%      0.082045    0.000000    5.190000    0.000000    0.449000    5.885500   \n",
       "50%      0.256510    0.000000    9.690000    0.000000    0.538000    6.208500   \n",
       "75%      3.677083   12.500000   18.100000    0.000000    0.624000    6.623500   \n",
       "max     88.976200  100.000000   27.740000    1.000000    0.871000    8.780000   \n",
       "\n",
       "              AGE         DIS         RAD         TAX     PTRATIO           B  \\\n",
       "count  506.000000  506.000000  506.000000  506.000000  506.000000  506.000000   \n",
       "mean    68.574901    3.795043    9.549407  408.237154   18.455534  356.674032   \n",
       "std     28.148861    2.105710    8.707259  168.537116    2.164946   91.294864   \n",
       "min      2.900000    1.129600    1.000000  187.000000   12.600000    0.320000   \n",
       "25%     45.025000    2.100175    4.000000  279.000000   17.400000  375.377500   \n",
       "50%     77.500000    3.207450    5.000000  330.000000   19.050000  391.440000   \n",
       "75%     94.075000    5.188425   24.000000  666.000000   20.200000  396.225000   \n",
       "max    100.000000   12.126500   24.000000  711.000000   22.000000  396.900000   \n",
       "\n",
       "            LSTAT        MEDV  \n",
       "count  506.000000  506.000000  \n",
       "mean    12.653063   22.532806  \n",
       "std      7.141062    9.197104  \n",
       "min      1.730000    5.000000  \n",
       "25%      6.950000   17.025000  \n",
       "50%     11.360000   21.200000  \n",
       "75%     16.955000   25.000000  \n",
       "max     37.970000   50.000000  "
      ]
     },
     "execution_count": 11,
     "metadata": {},
     "output_type": "execute_result"
    }
   ],
   "source": [
    "df.describe()"
   ]
  },
  {
   "cell_type": "markdown",
   "id": "6cfb4d60",
   "metadata": {},
   "source": [
    "#### Prepare Data"
   ]
  },
  {
   "cell_type": "code",
   "execution_count": 20,
   "id": "86dd3f00",
   "metadata": {},
   "outputs": [],
   "source": [
    "# separate target variable\n",
    "\n",
    "X = df.drop('MEDV', axis = 1)\n",
    "y = df['MEDV']"
   ]
  },
  {
   "cell_type": "code",
   "execution_count": 362,
   "id": "8fa41a5a",
   "metadata": {},
   "outputs": [],
   "source": [
    "# split data set for training and testing\n",
    "from sklearn.model_selection import train_test_split\n",
    "\n",
    "X_train, X_test, y_train, y_test = train_test_split(X, y, test_size=0.33, random_state=0)"
   ]
  },
  {
   "cell_type": "markdown",
   "id": "e534d8e8",
   "metadata": {},
   "source": [
    "### Implement Regression Algorithms"
   ]
  },
  {
   "cell_type": "markdown",
   "id": "3df055d0",
   "metadata": {},
   "source": [
    "#### Least Squares"
   ]
  },
  {
   "cell_type": "code",
   "execution_count": 457,
   "id": "4d6d6285",
   "metadata": {},
   "outputs": [],
   "source": [
    "def least_squares(data, target):\n",
    "    y = target\n",
    "    X = np.c_[np.ones(target.shape[0]), data.values]\n",
    "    betas = np.matmul(np.linalg.inv(X.T @ X), X.T @ y)\n",
    "    return betas"
   ]
  },
  {
   "cell_type": "code",
   "execution_count": 458,
   "id": "aa5e1bee",
   "metadata": {},
   "outputs": [],
   "source": []
  },
  {
   "cell_type": "code",
   "execution_count": 459,
   "id": "20aba3ff",
   "metadata": {},
   "outputs": [],
   "source": []
  },
  {
   "cell_type": "code",
   "execution_count": 472,
   "id": "94d3c646",
   "metadata": {},
   "outputs": [
    {
     "data": {
      "text/plain": [
       "21.18581162209604"
      ]
     },
     "execution_count": 472,
     "metadata": {},
     "output_type": "execute_result"
    }
   ],
   "source": [
    "np.dot(weights, X_test.iloc[4,:]) + intercept"
   ]
  },
  {
   "cell_type": "code",
   "execution_count": 466,
   "id": "b616b9fd",
   "metadata": {},
   "outputs": [
    {
     "data": {
      "text/plain": [
       "array([22.6, 50. , 23. ,  8.3, 21.2, 19.9, 20.6, 18.7, 16.1, 18.6,  8.8,\n",
       "       17.2, 14.9, 10.5, 50. , 29. , 23. , 33.3, 29.4, 21. , 23.8, 19.1,\n",
       "       20.4, 29.1, 19.3, 23.1, 19.6, 19.4, 38.7, 18.7, 14.6, 20. , 20.5,\n",
       "       20.1, 23.6, 16.8,  5.6, 50. , 14.5, 13.3, 23.9, 20. , 19.8, 13.8,\n",
       "       16.5, 21.6, 20.3, 17. , 11.8, 27.5, 15.6, 23.1, 24.3, 42.8, 15.6,\n",
       "       21.7, 17.1, 17.2, 15. , 21.7, 18.6, 21. , 33.1, 31.5, 20.1, 29.8,\n",
       "       15.2, 15. , 27.5, 22.6, 20. , 21.4, 23.5, 31.2, 23.7,  7.4, 48.3,\n",
       "       24.4, 22.6, 18.3, 23.3, 17.1, 27.9, 44.8, 50. , 23. , 21.4, 10.2,\n",
       "       23.3, 23.2, 18.9, 13.4, 21.9, 24.8, 11.9, 24.3, 13.8, 24.7, 14.1,\n",
       "       18.7, 28.1, 19.8, 26.7, 21.7, 22. , 22.9, 10.4, 21.9, 20.6, 26.4,\n",
       "       41.3, 17.2, 27.1, 20.4, 16.5, 24.4,  8.4, 23. ,  9.7, 50. , 30.5,\n",
       "       12.3, 19.4, 21.2, 20.3, 18.8, 33.4, 18.5, 19.6, 33.2, 13.1,  7.5,\n",
       "       13.6, 17.4,  8.4, 35.4, 24. , 13.4, 26.2,  7.2, 13.1, 24.5, 37.2,\n",
       "       25. , 24.1, 16.6, 32.9, 36.2, 11. ,  7.2, 22.8, 28.7, 14.4, 24.4,\n",
       "       18.1, 22.5, 20.5, 15.2, 17.4, 13.6,  8.7, 18.2, 35.4, 31.7, 33. ,\n",
       "       22.2, 20.4])"
      ]
     },
     "execution_count": 466,
     "metadata": {},
     "output_type": "execute_result"
    }
   ],
   "source": [
    "y_test.values"
   ]
  },
  {
   "cell_type": "code",
   "execution_count": 465,
   "id": "872f3b5e",
   "metadata": {},
   "outputs": [
    {
     "data": {
      "text/plain": [
       "329    22.6\n",
       "371    50.0\n",
       "219    23.0\n",
       "403     8.3\n",
       "78     21.2\n",
       "       ... \n",
       "281    35.4\n",
       "231    31.7\n",
       "64     33.0\n",
       "327    22.2\n",
       "322    20.4\n",
       "Name: MEDV, Length: 167, dtype: float64"
      ]
     },
     "execution_count": 465,
     "metadata": {},
     "output_type": "execute_result"
    }
   ],
   "source": [
    "y_test"
   ]
  },
  {
   "cell_type": "markdown",
   "id": "9217c3ed",
   "metadata": {},
   "source": [
    "#### Least Mean Squares"
   ]
  },
  {
   "cell_type": "code",
   "execution_count": 5,
   "id": "dc096014",
   "metadata": {},
   "outputs": [],
   "source": [
    "\n",
    "\n",
    "# algorithm\n",
    "\n",
    "# learning rate\n",
    "\n",
    "# weight tracks"
   ]
  },
  {
   "cell_type": "markdown",
   "id": "287c129f",
   "metadata": {},
   "source": [
    "### Train and Test Algorithms"
   ]
  },
  {
   "cell_type": "markdown",
   "id": "30b25fb2",
   "metadata": {},
   "source": [
    "#### Train"
   ]
  },
  {
   "cell_type": "code",
   "execution_count": 473,
   "id": "a21a41da",
   "metadata": {},
   "outputs": [],
   "source": [
    "# least squares\n",
    "betas = least_squares(X_train, y_train)\n",
    "intercept = betas[0]\n",
    "weights = betas[1:]"
   ]
  },
  {
   "cell_type": "markdown",
   "id": "af87574b",
   "metadata": {},
   "source": [
    "#### Test"
   ]
  },
  {
   "cell_type": "code",
   "execution_count": 130,
   "id": "ff53bebd",
   "metadata": {},
   "outputs": [
    {
     "data": {
      "text/plain": [
       "14"
      ]
     },
     "execution_count": 130,
     "metadata": {},
     "output_type": "execute_result"
    }
   ],
   "source": [
    "np.dot([1,2,3],[1,2,3])"
   ]
  },
  {
   "cell_type": "markdown",
   "id": "08e63043",
   "metadata": {},
   "source": [
    "### Visualize Results"
   ]
  },
  {
   "cell_type": "markdown",
   "id": "6493d0f4",
   "metadata": {},
   "source": [
    "#### Training Error and Variance Across Initializations"
   ]
  },
  {
   "cell_type": "code",
   "execution_count": null,
   "id": "3779ff8d",
   "metadata": {},
   "outputs": [],
   "source": []
  },
  {
   "cell_type": "markdown",
   "id": "a197689f",
   "metadata": {},
   "source": [
    "#### Testing Error and Variance Across Initializations"
   ]
  },
  {
   "cell_type": "code",
   "execution_count": null,
   "id": "48f5e8a9",
   "metadata": {},
   "outputs": [],
   "source": []
  },
  {
   "cell_type": "markdown",
   "id": "070b73ef",
   "metadata": {},
   "source": [
    "#### Effect of Different Levels of Regularizations (LS)"
   ]
  },
  {
   "cell_type": "code",
   "execution_count": null,
   "id": "8af109aa",
   "metadata": {},
   "outputs": [],
   "source": []
  },
  {
   "cell_type": "markdown",
   "id": "40cd8f39",
   "metadata": {},
   "source": [
    "#### Effect of Different Learning Rates (LMS)"
   ]
  },
  {
   "cell_type": "code",
   "execution_count": 3,
   "id": "ce832f2f",
   "metadata": {},
   "outputs": [],
   "source": [
    "# learning curves"
   ]
  },
  {
   "cell_type": "code",
   "execution_count": 4,
   "id": "3e525e17",
   "metadata": {},
   "outputs": [],
   "source": [
    "# weight tracks"
   ]
  },
  {
   "cell_type": "markdown",
   "id": "01872ad2",
   "metadata": {},
   "source": [
    "#### Accuracy Comparison Between Best LS and Best LMS"
   ]
  },
  {
   "cell_type": "code",
   "execution_count": null,
   "id": "66e728cb",
   "metadata": {},
   "outputs": [],
   "source": []
  },
  {
   "cell_type": "markdown",
   "id": "b7cfef89",
   "metadata": {},
   "source": [
    "#### What happens when the target variable is used as an input?"
   ]
  },
  {
   "cell_type": "code",
   "execution_count": 2,
   "id": "8ff42690",
   "metadata": {},
   "outputs": [],
   "source": [
    "# visualize the learned model parameters"
   ]
  },
  {
   "cell_type": "markdown",
   "id": "e5fa9c75",
   "metadata": {},
   "source": [
    "#### Does a bias term need to be included in the model for this problem?"
   ]
  },
  {
   "cell_type": "code",
   "execution_count": null,
   "id": "f1e100bb",
   "metadata": {},
   "outputs": [],
   "source": []
  }
 ],
 "metadata": {
  "kernelspec": {
   "display_name": "Python 3",
   "language": "python",
   "name": "python3"
  },
  "language_info": {
   "codemirror_mode": {
    "name": "ipython",
    "version": 3
   },
   "file_extension": ".py",
   "mimetype": "text/x-python",
   "name": "python",
   "nbconvert_exporter": "python",
   "pygments_lexer": "ipython3",
   "version": "3.8.8"
  },
  "toc": {
   "base_numbering": 1,
   "nav_menu": {},
   "number_sections": true,
   "sideBar": true,
   "skip_h1_title": true,
   "title_cell": "Table of Contents",
   "title_sidebar": "Contents",
   "toc_cell": false,
   "toc_position": {},
   "toc_section_display": true,
   "toc_window_display": false
  }
 },
 "nbformat": 4,
 "nbformat_minor": 5
}
