{
 "cells": [
  {
   "cell_type": "markdown",
   "id": "294bf7f9",
   "metadata": {},
   "source": [
    "# Linear Regression - Least Squares and Least Mean Squares\n",
    "\n",
    "**Ian Malone**"
   ]
  },
  {
   "cell_type": "markdown",
   "id": "c118335c",
   "metadata": {},
   "source": [
    "The goal of this project is to design a linear regressor using a set of features from a house sales\n",
    "database to determine its market value. I will be using a well-known data set, the\n",
    "Boston Housing data set located at https://www.cs.toronto.edu/~delve/data/boston/bostonDetail.html\n",
    "\n",
    "This data set has 14 attributes (features), and I will regress to price (14th feature). Therefore, this target variable will not be used as an input. The data set is rather small, and it will be dived 2/3 for training and 1/3 for testing.\n",
    "\n",
    "The results will be summarized by presenting the training error and its variance across different initializations. The test set error and its variance across different runs will be reported in a table.\n",
    "\n",
    "The Least Squares (LS) solution, also called statistical regression, and the Least Mean Squares (LMS) algorithm will be used to train the regressor.\n",
    "\n",
    "When using LS, the effect of different levels of regularizations will be shown. When training with LMS, the learning rate must be properly selected. The effect of the stepsize (or learning rate) will be shown by plotting the learning curve. The weight tracks for the LMS will also be shown. The accuracy of the LMS with the best initialization will be compared to the accuracy of the analytic LS solution.\n",
    "\n",
    "Other that will be explored include: What happens when the target variable is used as an input? This will be explained by visualizing the learned parameters of the model. Does a bias term need to be included in the model for this problem?"
   ]
  },
  {
   "cell_type": "markdown",
   "id": "c1d0749f",
   "metadata": {},
   "source": [
    "### Import Libraries and Prepare Data"
   ]
  },
  {
   "cell_type": "markdown",
   "id": "9c8dcebe",
   "metadata": {},
   "source": [
    "#### Import Libraries"
   ]
  },
  {
   "cell_type": "code",
   "execution_count": null,
   "id": "34033b8e",
   "metadata": {},
   "outputs": [],
   "source": []
  },
  {
   "cell_type": "markdown",
   "id": "0f7ca53f",
   "metadata": {},
   "source": [
    "#### Load Data"
   ]
  },
  {
   "cell_type": "code",
   "execution_count": null,
   "id": "20f8adc8",
   "metadata": {},
   "outputs": [],
   "source": []
  },
  {
   "cell_type": "markdown",
   "id": "c3d4f494",
   "metadata": {},
   "source": [
    "#### Prepare Data"
   ]
  },
  {
   "cell_type": "code",
   "execution_count": null,
   "id": "ba3bc54d",
   "metadata": {},
   "outputs": [],
   "source": []
  },
  {
   "cell_type": "markdown",
   "id": "a153fb07",
   "metadata": {},
   "source": [
    "### Implement Regression Algorithms"
   ]
  },
  {
   "cell_type": "markdown",
   "id": "97df350c",
   "metadata": {},
   "source": [
    "#### Least Squares"
   ]
  },
  {
   "cell_type": "code",
   "execution_count": 6,
   "id": "8662c9c5",
   "metadata": {},
   "outputs": [],
   "source": [
    "# algorithm\n",
    "\n",
    "# regularization"
   ]
  },
  {
   "cell_type": "markdown",
   "id": "d88a6662",
   "metadata": {},
   "source": [
    "#### Least Mean Squares"
   ]
  },
  {
   "cell_type": "code",
   "execution_count": 5,
   "id": "1e747f87",
   "metadata": {},
   "outputs": [],
   "source": [
    "# algorithm\n",
    "\n",
    "# learning rate\n",
    "\n",
    "# weight tracks"
   ]
  },
  {
   "cell_type": "markdown",
   "id": "1a918b5c",
   "metadata": {},
   "source": [
    "### Train and Test Algorithms"
   ]
  },
  {
   "cell_type": "markdown",
   "id": "dea79e59",
   "metadata": {},
   "source": [
    "#### Train"
   ]
  },
  {
   "cell_type": "code",
   "execution_count": null,
   "id": "d4dd2dbd",
   "metadata": {},
   "outputs": [],
   "source": []
  },
  {
   "cell_type": "markdown",
   "id": "e29274a8",
   "metadata": {},
   "source": [
    "#### Test"
   ]
  },
  {
   "cell_type": "code",
   "execution_count": null,
   "id": "c71889fe",
   "metadata": {},
   "outputs": [],
   "source": []
  },
  {
   "cell_type": "markdown",
   "id": "c07fca97",
   "metadata": {},
   "source": [
    "### Visualize Results"
   ]
  },
  {
   "cell_type": "markdown",
   "id": "19fcc109",
   "metadata": {},
   "source": [
    "#### Training Error and Variance Across Initializations"
   ]
  },
  {
   "cell_type": "code",
   "execution_count": null,
   "id": "484dec95",
   "metadata": {},
   "outputs": [],
   "source": []
  },
  {
   "cell_type": "markdown",
   "id": "c1e221aa",
   "metadata": {},
   "source": [
    "#### Testing Error and Variance Across Initializations"
   ]
  },
  {
   "cell_type": "code",
   "execution_count": null,
   "id": "ed217268",
   "metadata": {},
   "outputs": [],
   "source": []
  },
  {
   "cell_type": "markdown",
   "id": "a7b2340c",
   "metadata": {},
   "source": [
    "#### Effect of Different Levels of Regularizations (LS)"
   ]
  },
  {
   "cell_type": "code",
   "execution_count": null,
   "id": "2ec8043c",
   "metadata": {},
   "outputs": [],
   "source": []
  },
  {
   "cell_type": "markdown",
   "id": "0dd93214",
   "metadata": {},
   "source": [
    "#### Effect of Different Learning Rates (LMS)"
   ]
  },
  {
   "cell_type": "code",
   "execution_count": 3,
   "id": "dd3ab73c",
   "metadata": {},
   "outputs": [],
   "source": [
    "# learning curves"
   ]
  },
  {
   "cell_type": "code",
   "execution_count": 4,
   "id": "b1433850",
   "metadata": {},
   "outputs": [],
   "source": [
    "# weight tracks"
   ]
  },
  {
   "cell_type": "markdown",
   "id": "45ca8583",
   "metadata": {},
   "source": [
    "#### Accuracy Comparison Between Best LS and Best LMS"
   ]
  },
  {
   "cell_type": "code",
   "execution_count": null,
   "id": "8f547b1f",
   "metadata": {},
   "outputs": [],
   "source": []
  },
  {
   "cell_type": "markdown",
   "id": "cbfe66bc",
   "metadata": {},
   "source": [
    "#### What happens when the target variable is used as an input?"
   ]
  },
  {
   "cell_type": "code",
   "execution_count": 2,
   "id": "bef4288b",
   "metadata": {},
   "outputs": [],
   "source": [
    "# visualize the learned model parameters"
   ]
  },
  {
   "cell_type": "markdown",
   "id": "d9faf603",
   "metadata": {},
   "source": [
    "#### Does a bias term need to be included in the model for this problem?"
   ]
  },
  {
   "cell_type": "code",
   "execution_count": null,
   "id": "4f9fc79d",
   "metadata": {},
   "outputs": [],
   "source": []
  }
 ],
 "metadata": {
  "kernelspec": {
   "display_name": "Python 3",
   "language": "python",
   "name": "python3"
  },
  "language_info": {
   "codemirror_mode": {
    "name": "ipython",
    "version": 3
   },
   "file_extension": ".py",
   "mimetype": "text/x-python",
   "name": "python",
   "nbconvert_exporter": "python",
   "pygments_lexer": "ipython3",
   "version": "3.8.8"
  },
  "toc": {
   "base_numbering": 1,
   "nav_menu": {},
   "number_sections": true,
   "sideBar": true,
   "skip_h1_title": true,
   "title_cell": "Table of Contents",
   "title_sidebar": "Contents",
   "toc_cell": false,
   "toc_position": {},
   "toc_section_display": true,
   "toc_window_display": false
  }
 },
 "nbformat": 4,
 "nbformat_minor": 5
}
