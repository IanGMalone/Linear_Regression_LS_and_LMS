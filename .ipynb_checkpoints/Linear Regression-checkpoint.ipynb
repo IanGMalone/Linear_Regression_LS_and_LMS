{
 "cells": [
  {
   "cell_type": "markdown",
   "id": "d7ec8843",
   "metadata": {},
   "source": [
    "# Linear Regression From Scratch\n",
    "*Least Squares and Least Mean Squares*\n",
    "***\n",
    "**Ian Malone**"
   ]
  },
  {
   "cell_type": "markdown",
   "id": "413920b7",
   "metadata": {},
   "source": [
    "The goal of this project is to design a linear regressor using a set of features from a house sales\n",
    "database to determine its market value. I will be using a well-known data set, the\n",
    "Boston Housing data set located at https://www.cs.toronto.edu/~delve/data/boston/bostonDetail.html\n",
    "\n",
    "This data set has 14 attributes (features), and I will regress to price (14th feature). Therefore, this target variable will not be used as an input. The data set is rather small, and it will be dived 2/3 for training and 1/3 for testing.\n",
    "\n",
    "The results will be summarized by presenting the training error and its variance across different initializations. The test set error and its variance across different runs will be reported in a table.\n",
    "\n",
    "The Least Squares (LS) solution, also called statistical regression, and the Least Mean Squares (LMS) algorithm will be used to train the regressor.\n",
    "\n",
    "When using LS, the effect of different levels of regularizations will be shown. When training with LMS, the learning rate must be properly selected. The effect of the stepsize (or learning rate) will be shown by plotting the learning curve. The weight tracks for the LMS will also be shown. The accuracy of the LMS with the best initialization will be compared to the accuracy of the analytic LS solution.\n",
    "\n",
    "Other that will be explored include: What happens when the target variable is used as an input? This will be explained by visualizing the learned parameters of the model. Does a bias term need to be included in the model for this problem?"
   ]
  },
  {
   "cell_type": "markdown",
   "id": "5b9f2a3e",
   "metadata": {},
   "source": [
    "### Import Libraries and Prepare Data"
   ]
  },
  {
   "cell_type": "markdown",
   "id": "b3c669f9",
   "metadata": {},
   "source": [
    "#### Import Libraries"
   ]
  },
  {
   "cell_type": "code",
   "execution_count": 546,
   "id": "bc248856",
   "metadata": {},
   "outputs": [],
   "source": [
    "import numpy as np\n",
    "import pandas as pd\n",
    "import matplotlib.pyplot as plt\n",
    "import seaborn as sns"
   ]
  },
  {
   "cell_type": "markdown",
   "id": "8ff89cfe",
   "metadata": {},
   "source": [
    "#### Load Data"
   ]
  },
  {
   "cell_type": "code",
   "execution_count": 547,
   "id": "844f6c5a",
   "metadata": {},
   "outputs": [],
   "source": [
    "df = pd.read_csv(\"C:\\\\Users\\\\Ian\\\\Google Drive\\\\IanGMalone\\\\UF\\\\Classes\\\\Deep Learning\\\\HW\\\\HW1\\\\Boston_Housing.csv\")"
   ]
  },
  {
   "cell_type": "code",
   "execution_count": 548,
   "id": "6464e681",
   "metadata": {},
   "outputs": [
    {
     "data": {
      "text/html": [
       "<div>\n",
       "<style scoped>\n",
       "    .dataframe tbody tr th:only-of-type {\n",
       "        vertical-align: middle;\n",
       "    }\n",
       "\n",
       "    .dataframe tbody tr th {\n",
       "        vertical-align: top;\n",
       "    }\n",
       "\n",
       "    .dataframe thead th {\n",
       "        text-align: right;\n",
       "    }\n",
       "</style>\n",
       "<table border=\"1\" class=\"dataframe\">\n",
       "  <thead>\n",
       "    <tr style=\"text-align: right;\">\n",
       "      <th></th>\n",
       "      <th>CRIM</th>\n",
       "      <th>ZN</th>\n",
       "      <th>INDUS</th>\n",
       "      <th>CHAS</th>\n",
       "      <th>NOX</th>\n",
       "      <th>RM</th>\n",
       "      <th>AGE</th>\n",
       "      <th>DIS</th>\n",
       "      <th>RAD</th>\n",
       "      <th>TAX</th>\n",
       "      <th>PTRATIO</th>\n",
       "      <th>B</th>\n",
       "      <th>LSTAT</th>\n",
       "      <th>MEDV</th>\n",
       "    </tr>\n",
       "  </thead>\n",
       "  <tbody>\n",
       "    <tr>\n",
       "      <th>count</th>\n",
       "      <td>506.000000</td>\n",
       "      <td>506.000000</td>\n",
       "      <td>506.000000</td>\n",
       "      <td>506.000000</td>\n",
       "      <td>506.000000</td>\n",
       "      <td>506.000000</td>\n",
       "      <td>506.000000</td>\n",
       "      <td>506.000000</td>\n",
       "      <td>506.000000</td>\n",
       "      <td>506.000000</td>\n",
       "      <td>506.000000</td>\n",
       "      <td>506.000000</td>\n",
       "      <td>506.000000</td>\n",
       "      <td>506.000000</td>\n",
       "    </tr>\n",
       "    <tr>\n",
       "      <th>mean</th>\n",
       "      <td>3.613524</td>\n",
       "      <td>11.363636</td>\n",
       "      <td>11.136779</td>\n",
       "      <td>0.069170</td>\n",
       "      <td>0.554695</td>\n",
       "      <td>6.284634</td>\n",
       "      <td>68.574901</td>\n",
       "      <td>3.795043</td>\n",
       "      <td>9.549407</td>\n",
       "      <td>408.237154</td>\n",
       "      <td>18.455534</td>\n",
       "      <td>356.674032</td>\n",
       "      <td>12.653063</td>\n",
       "      <td>22.532806</td>\n",
       "    </tr>\n",
       "    <tr>\n",
       "      <th>std</th>\n",
       "      <td>8.601545</td>\n",
       "      <td>23.322453</td>\n",
       "      <td>6.860353</td>\n",
       "      <td>0.253994</td>\n",
       "      <td>0.115878</td>\n",
       "      <td>0.702617</td>\n",
       "      <td>28.148861</td>\n",
       "      <td>2.105710</td>\n",
       "      <td>8.707259</td>\n",
       "      <td>168.537116</td>\n",
       "      <td>2.164946</td>\n",
       "      <td>91.294864</td>\n",
       "      <td>7.141062</td>\n",
       "      <td>9.197104</td>\n",
       "    </tr>\n",
       "    <tr>\n",
       "      <th>min</th>\n",
       "      <td>0.006320</td>\n",
       "      <td>0.000000</td>\n",
       "      <td>0.460000</td>\n",
       "      <td>0.000000</td>\n",
       "      <td>0.385000</td>\n",
       "      <td>3.561000</td>\n",
       "      <td>2.900000</td>\n",
       "      <td>1.129600</td>\n",
       "      <td>1.000000</td>\n",
       "      <td>187.000000</td>\n",
       "      <td>12.600000</td>\n",
       "      <td>0.320000</td>\n",
       "      <td>1.730000</td>\n",
       "      <td>5.000000</td>\n",
       "    </tr>\n",
       "    <tr>\n",
       "      <th>25%</th>\n",
       "      <td>0.082045</td>\n",
       "      <td>0.000000</td>\n",
       "      <td>5.190000</td>\n",
       "      <td>0.000000</td>\n",
       "      <td>0.449000</td>\n",
       "      <td>5.885500</td>\n",
       "      <td>45.025000</td>\n",
       "      <td>2.100175</td>\n",
       "      <td>4.000000</td>\n",
       "      <td>279.000000</td>\n",
       "      <td>17.400000</td>\n",
       "      <td>375.377500</td>\n",
       "      <td>6.950000</td>\n",
       "      <td>17.025000</td>\n",
       "    </tr>\n",
       "    <tr>\n",
       "      <th>50%</th>\n",
       "      <td>0.256510</td>\n",
       "      <td>0.000000</td>\n",
       "      <td>9.690000</td>\n",
       "      <td>0.000000</td>\n",
       "      <td>0.538000</td>\n",
       "      <td>6.208500</td>\n",
       "      <td>77.500000</td>\n",
       "      <td>3.207450</td>\n",
       "      <td>5.000000</td>\n",
       "      <td>330.000000</td>\n",
       "      <td>19.050000</td>\n",
       "      <td>391.440000</td>\n",
       "      <td>11.360000</td>\n",
       "      <td>21.200000</td>\n",
       "    </tr>\n",
       "    <tr>\n",
       "      <th>75%</th>\n",
       "      <td>3.677083</td>\n",
       "      <td>12.500000</td>\n",
       "      <td>18.100000</td>\n",
       "      <td>0.000000</td>\n",
       "      <td>0.624000</td>\n",
       "      <td>6.623500</td>\n",
       "      <td>94.075000</td>\n",
       "      <td>5.188425</td>\n",
       "      <td>24.000000</td>\n",
       "      <td>666.000000</td>\n",
       "      <td>20.200000</td>\n",
       "      <td>396.225000</td>\n",
       "      <td>16.955000</td>\n",
       "      <td>25.000000</td>\n",
       "    </tr>\n",
       "    <tr>\n",
       "      <th>max</th>\n",
       "      <td>88.976200</td>\n",
       "      <td>100.000000</td>\n",
       "      <td>27.740000</td>\n",
       "      <td>1.000000</td>\n",
       "      <td>0.871000</td>\n",
       "      <td>8.780000</td>\n",
       "      <td>100.000000</td>\n",
       "      <td>12.126500</td>\n",
       "      <td>24.000000</td>\n",
       "      <td>711.000000</td>\n",
       "      <td>22.000000</td>\n",
       "      <td>396.900000</td>\n",
       "      <td>37.970000</td>\n",
       "      <td>50.000000</td>\n",
       "    </tr>\n",
       "  </tbody>\n",
       "</table>\n",
       "</div>"
      ],
      "text/plain": [
       "             CRIM          ZN       INDUS        CHAS         NOX          RM  \\\n",
       "count  506.000000  506.000000  506.000000  506.000000  506.000000  506.000000   \n",
       "mean     3.613524   11.363636   11.136779    0.069170    0.554695    6.284634   \n",
       "std      8.601545   23.322453    6.860353    0.253994    0.115878    0.702617   \n",
       "min      0.006320    0.000000    0.460000    0.000000    0.385000    3.561000   \n",
       "25%      0.082045    0.000000    5.190000    0.000000    0.449000    5.885500   \n",
       "50%      0.256510    0.000000    9.690000    0.000000    0.538000    6.208500   \n",
       "75%      3.677083   12.500000   18.100000    0.000000    0.624000    6.623500   \n",
       "max     88.976200  100.000000   27.740000    1.000000    0.871000    8.780000   \n",
       "\n",
       "              AGE         DIS         RAD         TAX     PTRATIO           B  \\\n",
       "count  506.000000  506.000000  506.000000  506.000000  506.000000  506.000000   \n",
       "mean    68.574901    3.795043    9.549407  408.237154   18.455534  356.674032   \n",
       "std     28.148861    2.105710    8.707259  168.537116    2.164946   91.294864   \n",
       "min      2.900000    1.129600    1.000000  187.000000   12.600000    0.320000   \n",
       "25%     45.025000    2.100175    4.000000  279.000000   17.400000  375.377500   \n",
       "50%     77.500000    3.207450    5.000000  330.000000   19.050000  391.440000   \n",
       "75%     94.075000    5.188425   24.000000  666.000000   20.200000  396.225000   \n",
       "max    100.000000   12.126500   24.000000  711.000000   22.000000  396.900000   \n",
       "\n",
       "            LSTAT        MEDV  \n",
       "count  506.000000  506.000000  \n",
       "mean    12.653063   22.532806  \n",
       "std      7.141062    9.197104  \n",
       "min      1.730000    5.000000  \n",
       "25%      6.950000   17.025000  \n",
       "50%     11.360000   21.200000  \n",
       "75%     16.955000   25.000000  \n",
       "max     37.970000   50.000000  "
      ]
     },
     "execution_count": 548,
     "metadata": {},
     "output_type": "execute_result"
    }
   ],
   "source": [
    "df.describe()"
   ]
  },
  {
   "cell_type": "markdown",
   "id": "963c0f81",
   "metadata": {},
   "source": [
    "#### Prepare Data"
   ]
  },
  {
   "cell_type": "code",
   "execution_count": 550,
   "id": "e57898b8",
   "metadata": {},
   "outputs": [],
   "source": [
    "# separate target variable\n",
    "\n",
    "X = df.drop('MEDV', axis = 1)\n",
    "y = df['MEDV']"
   ]
  },
  {
   "cell_type": "code",
   "execution_count": 551,
   "id": "f91c410f",
   "metadata": {},
   "outputs": [],
   "source": [
    "# split data set for training and testing\n",
    "from sklearn.model_selection import train_test_split\n",
    "\n",
    "X_train, X_test, y_train, y_test = train_test_split(X, y, test_size=0.33, random_state=0)"
   ]
  },
  {
   "cell_type": "markdown",
   "id": "c7a8aae4",
   "metadata": {},
   "source": [
    "### Implement Regression Algorithms"
   ]
  },
  {
   "cell_type": "markdown",
   "id": "899be633",
   "metadata": {},
   "source": [
    "#### Least Squares"
   ]
  },
  {
   "cell_type": "code",
   "execution_count": 556,
   "id": "1d3a9b9c",
   "metadata": {},
   "outputs": [],
   "source": [
    "def least_squares(data, target):\n",
    "    y = target\n",
    "    X = np.c_[np.ones(target.shape[0]), data.values]\n",
    "    betas = np.matmul(np.linalg.inv(X.T @ X), X.T @ y)\n",
    "    return betas"
   ]
  },
  {
   "cell_type": "markdown",
   "id": "9e1c2ad0",
   "metadata": {},
   "source": [
    "#### Least Mean Squares"
   ]
  },
  {
   "cell_type": "code",
   "execution_count": 586,
   "id": "d3aaf51c",
   "metadata": {},
   "outputs": [],
   "source": [
    "def least_mean_squares(data, target, learning_rate):\n",
    "    X = np.c_[np.ones(target.shape[0]), data.values]\n",
    "    W = np.vstack((np.random.rand(X.shape[1]), np.random.rand(X.shape[1])))\n",
    "    for i in range(data.shape[0]):\n",
    "        intercept = W[-1][0]\n",
    "        weights = W[-1][1:]\n",
    "        error = target.values[i] - (np.dot(weights, data.iloc[i,:]) + intercept)\n",
    "        new_weights = W[-1] + learning_rate * error * X[i,:]\n",
    "        W = np.vstack((W, new_weights))\n",
    "    return W[-1]\n",
    "    \n",
    "    \n",
    "\n",
    "# weight tracks!!!!\n",
    "\n"
   ]
  },
  {
   "cell_type": "markdown",
   "id": "afa1647a",
   "metadata": {},
   "source": [
    "### Train and Test Algorithms"
   ]
  },
  {
   "cell_type": "markdown",
   "id": "b4e99c99",
   "metadata": {},
   "source": [
    "#### Train"
   ]
  },
  {
   "cell_type": "code",
   "execution_count": 561,
   "id": "69d7ff81",
   "metadata": {},
   "outputs": [
    {
     "data": {
      "text/plain": [
       "<module 'numpy' from 'C:\\\\Users\\\\Ian\\\\anaconda3\\\\lib\\\\site-packages\\\\numpy\\\\__init__.py'>"
      ]
     },
     "execution_count": 561,
     "metadata": {},
     "output_type": "execute_result"
    }
   ],
   "source": [
    "np"
   ]
  },
  {
   "cell_type": "code",
   "execution_count": 585,
   "id": "6156a7f5",
   "metadata": {},
   "outputs": [],
   "source": [
    "# least squares\n",
    "ls_betas = least_squares(X_train, y_train)\n",
    "ls_intercept = ls_betas[0]\n",
    "ls_weights = ls_betas[1:]\n",
    "\n",
    "# least mean squares\n",
    "lms_betas = least_mean_squares(X_train, y_train, 0.0000001)\n",
    "lms_intercept = lms_betas[0]\n",
    "lms_weights = lms_betas[1:]"
   ]
  },
  {
   "cell_type": "markdown",
   "id": "9cf0940b",
   "metadata": {},
   "source": [
    "#### Test"
   ]
  },
  {
   "cell_type": "code",
   "execution_count": null,
   "id": "70e636f7",
   "metadata": {},
   "outputs": [],
   "source": []
  },
  {
   "cell_type": "markdown",
   "id": "a04c9642",
   "metadata": {},
   "source": [
    "### Visualize Results"
   ]
  },
  {
   "cell_type": "markdown",
   "id": "d71d1f35",
   "metadata": {},
   "source": [
    "#### Training Error and Variance Across Initializations"
   ]
  },
  {
   "cell_type": "code",
   "execution_count": null,
   "id": "254caf7b",
   "metadata": {},
   "outputs": [],
   "source": []
  },
  {
   "cell_type": "markdown",
   "id": "91f310ad",
   "metadata": {},
   "source": [
    "#### Testing Error and Variance Across Initializations"
   ]
  },
  {
   "cell_type": "code",
   "execution_count": null,
   "id": "3f168285",
   "metadata": {},
   "outputs": [],
   "source": []
  },
  {
   "cell_type": "markdown",
   "id": "3266c31e",
   "metadata": {},
   "source": [
    "#### Effect of Different Levels of Regularizations (LS)"
   ]
  },
  {
   "cell_type": "code",
   "execution_count": null,
   "id": "6171d371",
   "metadata": {},
   "outputs": [],
   "source": []
  },
  {
   "cell_type": "markdown",
   "id": "8343b138",
   "metadata": {},
   "source": [
    "#### Effect of Different Learning Rates (LMS)"
   ]
  },
  {
   "cell_type": "code",
   "execution_count": 565,
   "id": "38588e4e",
   "metadata": {},
   "outputs": [],
   "source": [
    "# learning curves"
   ]
  },
  {
   "cell_type": "code",
   "execution_count": 566,
   "id": "ae64a1db",
   "metadata": {},
   "outputs": [],
   "source": [
    "# weight tracks"
   ]
  },
  {
   "cell_type": "markdown",
   "id": "2329b691",
   "metadata": {},
   "source": [
    "#### Accuracy Comparison Between Best LS and Best LMS"
   ]
  },
  {
   "cell_type": "code",
   "execution_count": null,
   "id": "764705d0",
   "metadata": {},
   "outputs": [],
   "source": []
  },
  {
   "cell_type": "markdown",
   "id": "984af6cd",
   "metadata": {},
   "source": [
    "#### What happens when the target variable is used as an input?"
   ]
  },
  {
   "cell_type": "code",
   "execution_count": 567,
   "id": "793529d4",
   "metadata": {},
   "outputs": [],
   "source": [
    "# visualize the learned model parameters"
   ]
  },
  {
   "cell_type": "markdown",
   "id": "57c3073c",
   "metadata": {},
   "source": [
    "#### Does a bias term need to be included in the model for this problem?"
   ]
  },
  {
   "cell_type": "code",
   "execution_count": null,
   "id": "694b6633",
   "metadata": {},
   "outputs": [],
   "source": []
  }
 ],
 "metadata": {
  "kernelspec": {
   "display_name": "Python 3",
   "language": "python",
   "name": "python3"
  },
  "language_info": {
   "codemirror_mode": {
    "name": "ipython",
    "version": 3
   },
   "file_extension": ".py",
   "mimetype": "text/x-python",
   "name": "python",
   "nbconvert_exporter": "python",
   "pygments_lexer": "ipython3",
   "version": "3.8.8"
  },
  "toc": {
   "base_numbering": 1,
   "nav_menu": {},
   "number_sections": true,
   "sideBar": true,
   "skip_h1_title": true,
   "title_cell": "Table of Contents",
   "title_sidebar": "Contents",
   "toc_cell": false,
   "toc_position": {},
   "toc_section_display": true,
   "toc_window_display": false
  }
 },
 "nbformat": 4,
 "nbformat_minor": 5
}
